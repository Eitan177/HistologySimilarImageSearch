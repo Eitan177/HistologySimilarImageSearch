{
  "nbformat": 4,
  "nbformat_minor": 0,
  "metadata": {
    "colab": {
      "name": "Histology_SimilarImageAndTextSearch.ipynb",
      "provenance": [],
      "collapsed_sections": [],
      "authorship_tag": "ABX9TyNfSyXS+gxguaI5mprI82Fp",
      "include_colab_link": true
    },
    "kernelspec": {
      "name": "python3",
      "display_name": "Python 3"
    }
  },
  "cells": [
    {
      "cell_type": "markdown",
      "metadata": {
        "id": "view-in-github",
        "colab_type": "text"
      },
      "source": [
        "<a href=\"https://colab.research.google.com/github/Eitan177/HistologySimilarImageSearch/blob/master/Histology_SimilarImageAndTextSearch.ipynb\" target=\"_parent\"><img src=\"https://colab.research.google.com/assets/colab-badge.svg\" alt=\"Open In Colab\"/></a>"
      ]
    },
    {
      "cell_type": "markdown",
      "metadata": {
        "id": "7BxNptfTSUKV",
        "colab_type": "text"
      },
      "source": [
        "# Image Similarity Search\n",
        "\n",
        "*Eitan Halper-Stromberg, 3/25/2020*\n",
        "\n",
        "### 1) Set Up the Environment\n",
        "### 2) Upload an Image and Get a URL For the Image\n",
        "### 3) Copy URL into input and add search terms into Input \n",
        "### 4) Run Code to Perform the Search Using Keywords AND Image (Google's 'Visually Similar Search') and See Links Output Below"
      ]
    },
    {
      "cell_type": "code",
      "metadata": {
        "id": "70GQwpPr6QJq",
        "colab_type": "code",
        "outputId": "532b1fe5-c8cb-44e5-eb30-9be382c9c5a9",
        "cellView": "both",
        "colab": {
          "base_uri": "https://localhost:8080/",
          "height": 1000
        }
      },
      "source": [
        "#@title 1) Setup The Environment (this only needs to be done once) scroll down to see 2nd code cell\n",
        "\n",
        "!pip install selenium\n",
        "!apt-get update # to update ubuntu to correctly run apt install\n",
        "!apt install chromium-chromedriver\n",
        "!cp /usr/lib/chromium-browser/chromedriver /usr/bin\n",
        "!pip install pytest\n",
        "\n",
        "from selenium import webdriver\n",
        "from selenium.webdriver.common.by import By\n",
        "from selenium.webdriver.common.action_chains import ActionChains\n",
        "from selenium.webdriver.support import expected_conditions\n",
        "from selenium.webdriver.support.wait import WebDriverWait\n",
        "from selenium.webdriver.common.keys import Keys\n",
        "from selenium.webdriver.common.desired_capabilities import DesiredCapabilities\n",
        "import sys\n",
        "sys.path.insert(0,'/usr/lib/chromium-browser/chromedriver')\n",
        "from selenium import webdriver\n",
        "options = webdriver.ChromeOptions()\n",
        "options.add_argument('--headless')\n",
        "options.add_argument('--no-sandbox')\n",
        "options.add_argument('--disable-dev-shm-usage')\n",
        "driver = webdriver.Chrome('chromedriver',options=options)"
      ],
      "execution_count": 1,
      "outputs": [
        {
          "output_type": "stream",
          "text": [
            "Collecting selenium\n",
            "\u001b[?25l  Downloading https://files.pythonhosted.org/packages/80/d6/4294f0b4bce4de0abf13e17190289f9d0613b0a44e5dd6a7f5ca98459853/selenium-3.141.0-py2.py3-none-any.whl (904kB)\n",
            "\r\u001b[K     |▍                               | 10kB 20.9MB/s eta 0:00:01\r\u001b[K     |▊                               | 20kB 3.0MB/s eta 0:00:01\r\u001b[K     |█                               | 30kB 4.4MB/s eta 0:00:01\r\u001b[K     |█▌                              | 40kB 2.9MB/s eta 0:00:01\r\u001b[K     |█▉                              | 51kB 3.5MB/s eta 0:00:01\r\u001b[K     |██▏                             | 61kB 4.2MB/s eta 0:00:01\r\u001b[K     |██▌                             | 71kB 4.8MB/s eta 0:00:01\r\u001b[K     |███                             | 81kB 5.5MB/s eta 0:00:01\r\u001b[K     |███▎                            | 92kB 6.1MB/s eta 0:00:01\r\u001b[K     |███▋                            | 102kB 4.7MB/s eta 0:00:01\r\u001b[K     |████                            | 112kB 4.7MB/s eta 0:00:01\r\u001b[K     |████▍                           | 122kB 4.7MB/s eta 0:00:01\r\u001b[K     |████▊                           | 133kB 4.7MB/s eta 0:00:01\r\u001b[K     |█████                           | 143kB 4.7MB/s eta 0:00:01\r\u001b[K     |█████▍                          | 153kB 4.7MB/s eta 0:00:01\r\u001b[K     |█████▉                          | 163kB 4.7MB/s eta 0:00:01\r\u001b[K     |██████▏                         | 174kB 4.7MB/s eta 0:00:01\r\u001b[K     |██████▌                         | 184kB 4.7MB/s eta 0:00:01\r\u001b[K     |██████▉                         | 194kB 4.7MB/s eta 0:00:01\r\u001b[K     |███████▎                        | 204kB 4.7MB/s eta 0:00:01\r\u001b[K     |███████▋                        | 215kB 4.7MB/s eta 0:00:01\r\u001b[K     |████████                        | 225kB 4.7MB/s eta 0:00:01\r\u001b[K     |████████▎                       | 235kB 4.7MB/s eta 0:00:01\r\u001b[K     |████████▊                       | 245kB 4.7MB/s eta 0:00:01\r\u001b[K     |█████████                       | 256kB 4.7MB/s eta 0:00:01\r\u001b[K     |█████████▍                      | 266kB 4.7MB/s eta 0:00:01\r\u001b[K     |█████████▉                      | 276kB 4.7MB/s eta 0:00:01\r\u001b[K     |██████████▏                     | 286kB 4.7MB/s eta 0:00:01\r\u001b[K     |██████████▌                     | 296kB 4.7MB/s eta 0:00:01\r\u001b[K     |██████████▉                     | 307kB 4.7MB/s eta 0:00:01\r\u001b[K     |███████████▎                    | 317kB 4.7MB/s eta 0:00:01\r\u001b[K     |███████████▋                    | 327kB 4.7MB/s eta 0:00:01\r\u001b[K     |████████████                    | 337kB 4.7MB/s eta 0:00:01\r\u001b[K     |████████████▎                   | 348kB 4.7MB/s eta 0:00:01\r\u001b[K     |████████████▊                   | 358kB 4.7MB/s eta 0:00:01\r\u001b[K     |█████████████                   | 368kB 4.7MB/s eta 0:00:01\r\u001b[K     |█████████████▍                  | 378kB 4.7MB/s eta 0:00:01\r\u001b[K     |█████████████▊                  | 389kB 4.7MB/s eta 0:00:01\r\u001b[K     |██████████████▏                 | 399kB 4.7MB/s eta 0:00:01\r\u001b[K     |██████████████▌                 | 409kB 4.7MB/s eta 0:00:01\r\u001b[K     |██████████████▉                 | 419kB 4.7MB/s eta 0:00:01\r\u001b[K     |███████████████▏                | 430kB 4.7MB/s eta 0:00:01\r\u001b[K     |███████████████▋                | 440kB 4.7MB/s eta 0:00:01\r\u001b[K     |████████████████                | 450kB 4.7MB/s eta 0:00:01\r\u001b[K     |████████████████▎               | 460kB 4.7MB/s eta 0:00:01\r\u001b[K     |████████████████▋               | 471kB 4.7MB/s eta 0:00:01\r\u001b[K     |█████████████████               | 481kB 4.7MB/s eta 0:00:01\r\u001b[K     |█████████████████▍              | 491kB 4.7MB/s eta 0:00:01\r\u001b[K     |█████████████████▊              | 501kB 4.7MB/s eta 0:00:01\r\u001b[K     |██████████████████▏             | 512kB 4.7MB/s eta 0:00:01\r\u001b[K     |██████████████████▌             | 522kB 4.7MB/s eta 0:00:01\r\u001b[K     |██████████████████▉             | 532kB 4.7MB/s eta 0:00:01\r\u001b[K     |███████████████████▏            | 542kB 4.7MB/s eta 0:00:01\r\u001b[K     |███████████████████▋            | 552kB 4.7MB/s eta 0:00:01\r\u001b[K     |████████████████████            | 563kB 4.7MB/s eta 0:00:01\r\u001b[K     |████████████████████▎           | 573kB 4.7MB/s eta 0:00:01\r\u001b[K     |████████████████████▋           | 583kB 4.7MB/s eta 0:00:01\r\u001b[K     |█████████████████████           | 593kB 4.7MB/s eta 0:00:01\r\u001b[K     |█████████████████████▍          | 604kB 4.7MB/s eta 0:00:01\r\u001b[K     |█████████████████████▊          | 614kB 4.7MB/s eta 0:00:01\r\u001b[K     |██████████████████████          | 624kB 4.7MB/s eta 0:00:01\r\u001b[K     |██████████████████████▌         | 634kB 4.7MB/s eta 0:00:01\r\u001b[K     |██████████████████████▉         | 645kB 4.7MB/s eta 0:00:01\r\u001b[K     |███████████████████████▏        | 655kB 4.7MB/s eta 0:00:01\r\u001b[K     |███████████████████████▌        | 665kB 4.7MB/s eta 0:00:01\r\u001b[K     |████████████████████████        | 675kB 4.7MB/s eta 0:00:01\r\u001b[K     |████████████████████████▎       | 686kB 4.7MB/s eta 0:00:01\r\u001b[K     |████████████████████████▋       | 696kB 4.7MB/s eta 0:00:01\r\u001b[K     |█████████████████████████       | 706kB 4.7MB/s eta 0:00:01\r\u001b[K     |█████████████████████████▍      | 716kB 4.7MB/s eta 0:00:01\r\u001b[K     |█████████████████████████▊      | 727kB 4.7MB/s eta 0:00:01\r\u001b[K     |██████████████████████████      | 737kB 4.7MB/s eta 0:00:01\r\u001b[K     |██████████████████████████▍     | 747kB 4.7MB/s eta 0:00:01\r\u001b[K     |██████████████████████████▉     | 757kB 4.7MB/s eta 0:00:01\r\u001b[K     |███████████████████████████▏    | 768kB 4.7MB/s eta 0:00:01\r\u001b[K     |███████████████████████████▌    | 778kB 4.7MB/s eta 0:00:01\r\u001b[K     |████████████████████████████    | 788kB 4.7MB/s eta 0:00:01\r\u001b[K     |████████████████████████████▎   | 798kB 4.7MB/s eta 0:00:01\r\u001b[K     |████████████████████████████▋   | 808kB 4.7MB/s eta 0:00:01\r\u001b[K     |█████████████████████████████   | 819kB 4.7MB/s eta 0:00:01\r\u001b[K     |█████████████████████████████▍  | 829kB 4.7MB/s eta 0:00:01\r\u001b[K     |█████████████████████████████▊  | 839kB 4.7MB/s eta 0:00:01\r\u001b[K     |██████████████████████████████  | 849kB 4.7MB/s eta 0:00:01\r\u001b[K     |██████████████████████████████▍ | 860kB 4.7MB/s eta 0:00:01\r\u001b[K     |██████████████████████████████▉ | 870kB 4.7MB/s eta 0:00:01\r\u001b[K     |███████████████████████████████▏| 880kB 4.7MB/s eta 0:00:01\r\u001b[K     |███████████████████████████████▌| 890kB 4.7MB/s eta 0:00:01\r\u001b[K     |███████████████████████████████▉| 901kB 4.7MB/s eta 0:00:01\r\u001b[K     |████████████████████████████████| 911kB 4.7MB/s \n",
            "\u001b[?25hRequirement already satisfied: urllib3 in /usr/local/lib/python3.6/dist-packages (from selenium) (1.24.3)\n",
            "Installing collected packages: selenium\n",
            "Successfully installed selenium-3.141.0\n",
            "Get:1 https://cloud.r-project.org/bin/linux/ubuntu bionic-cran35/ InRelease [3,626 B]\n",
            "Ign:2 https://developer.download.nvidia.com/compute/cuda/repos/ubuntu1804/x86_64  InRelease\n",
            "Ign:3 https://developer.download.nvidia.com/compute/machine-learning/repos/ubuntu1804/x86_64  InRelease\n",
            "Hit:4 https://developer.download.nvidia.com/compute/cuda/repos/ubuntu1804/x86_64  Release\n",
            "Hit:5 https://developer.download.nvidia.com/compute/machine-learning/repos/ubuntu1804/x86_64  Release\n",
            "Hit:6 http://ppa.launchpad.net/graphics-drivers/ppa/ubuntu bionic InRelease\n",
            "Get:7 http://security.ubuntu.com/ubuntu bionic-security InRelease [88.7 kB]\n",
            "Hit:8 http://archive.ubuntu.com/ubuntu bionic InRelease\n",
            "Get:9 http://archive.ubuntu.com/ubuntu bionic-updates InRelease [88.7 kB]\n",
            "Get:11 http://ppa.launchpad.net/marutter/c2d4u3.5/ubuntu bionic InRelease [15.4 kB]\n",
            "Get:13 http://archive.ubuntu.com/ubuntu bionic-backports InRelease [74.6 kB]\n",
            "Get:14 http://ppa.launchpad.net/marutter/c2d4u3.5/ubuntu bionic/main Sources [1,784 kB]\n",
            "Get:15 http://security.ubuntu.com/ubuntu bionic-security/restricted amd64 Packages [35.2 kB]\n",
            "Get:16 http://archive.ubuntu.com/ubuntu bionic-updates/universe amd64 Packages [1,362 kB]\n",
            "Get:17 http://security.ubuntu.com/ubuntu bionic-security/main amd64 Packages [861 kB]\n",
            "Get:18 http://security.ubuntu.com/ubuntu bionic-security/universe amd64 Packages [832 kB]\n",
            "Get:19 http://archive.ubuntu.com/ubuntu bionic-updates/main amd64 Packages [1,155 kB]\n",
            "Get:20 http://archive.ubuntu.com/ubuntu bionic-updates/restricted amd64 Packages [48.7 kB]\n",
            "Get:21 http://archive.ubuntu.com/ubuntu bionic-backports/universe amd64 Packages [4,247 B]\n",
            "Get:22 http://ppa.launchpad.net/marutter/c2d4u3.5/ubuntu bionic/main amd64 Packages [862 kB]\n",
            "Fetched 7,215 kB in 4s (1,920 kB/s)\n",
            "Reading package lists... Done\n",
            "Reading package lists... Done\n",
            "Building dependency tree       \n",
            "Reading state information... Done\n",
            "The following additional packages will be installed:\n",
            "  chromium-browser chromium-browser-l10n chromium-codecs-ffmpeg-extra\n",
            "Suggested packages:\n",
            "  webaccounts-chromium-extension unity-chromium-extension adobe-flashplugin\n",
            "The following NEW packages will be installed:\n",
            "  chromium-browser chromium-browser-l10n chromium-chromedriver\n",
            "  chromium-codecs-ffmpeg-extra\n",
            "0 upgraded, 4 newly installed, 0 to remove and 35 not upgraded.\n",
            "Need to get 74.4 MB of archives.\n",
            "After this operation, 264 MB of additional disk space will be used.\n",
            "Get:1 http://archive.ubuntu.com/ubuntu bionic-updates/universe amd64 chromium-codecs-ffmpeg-extra amd64 80.0.3987.87-0ubuntu0.18.04.1 [1,095 kB]\n",
            "Get:2 http://archive.ubuntu.com/ubuntu bionic-updates/universe amd64 chromium-browser amd64 80.0.3987.87-0ubuntu0.18.04.1 [66.1 MB]\n",
            "Get:3 http://archive.ubuntu.com/ubuntu bionic-updates/universe amd64 chromium-browser-l10n all 80.0.3987.87-0ubuntu0.18.04.1 [3,155 kB]\n",
            "Get:4 http://archive.ubuntu.com/ubuntu bionic-updates/universe amd64 chromium-chromedriver amd64 80.0.3987.87-0ubuntu0.18.04.1 [4,044 kB]\n",
            "Fetched 74.4 MB in 5s (14.8 MB/s)\n",
            "Selecting previously unselected package chromium-codecs-ffmpeg-extra.\n",
            "(Reading database ... 133872 files and directories currently installed.)\n",
            "Preparing to unpack .../chromium-codecs-ffmpeg-extra_80.0.3987.87-0ubuntu0.18.04.1_amd64.deb ...\n",
            "Unpacking chromium-codecs-ffmpeg-extra (80.0.3987.87-0ubuntu0.18.04.1) ...\n",
            "Selecting previously unselected package chromium-browser.\n",
            "Preparing to unpack .../chromium-browser_80.0.3987.87-0ubuntu0.18.04.1_amd64.deb ...\n",
            "Unpacking chromium-browser (80.0.3987.87-0ubuntu0.18.04.1) ...\n",
            "Selecting previously unselected package chromium-browser-l10n.\n",
            "Preparing to unpack .../chromium-browser-l10n_80.0.3987.87-0ubuntu0.18.04.1_all.deb ...\n",
            "Unpacking chromium-browser-l10n (80.0.3987.87-0ubuntu0.18.04.1) ...\n",
            "Selecting previously unselected package chromium-chromedriver.\n",
            "Preparing to unpack .../chromium-chromedriver_80.0.3987.87-0ubuntu0.18.04.1_amd64.deb ...\n",
            "Unpacking chromium-chromedriver (80.0.3987.87-0ubuntu0.18.04.1) ...\n",
            "Setting up chromium-codecs-ffmpeg-extra (80.0.3987.87-0ubuntu0.18.04.1) ...\n",
            "Setting up chromium-browser (80.0.3987.87-0ubuntu0.18.04.1) ...\n",
            "update-alternatives: using /usr/bin/chromium-browser to provide /usr/bin/x-www-browser (x-www-browser) in auto mode\n",
            "update-alternatives: using /usr/bin/chromium-browser to provide /usr/bin/gnome-www-browser (gnome-www-browser) in auto mode\n",
            "Setting up chromium-chromedriver (80.0.3987.87-0ubuntu0.18.04.1) ...\n",
            "Setting up chromium-browser-l10n (80.0.3987.87-0ubuntu0.18.04.1) ...\n",
            "Processing triggers for hicolor-icon-theme (0.17-2) ...\n",
            "Processing triggers for mime-support (3.60ubuntu1) ...\n",
            "Processing triggers for man-db (2.8.3-2ubuntu0.1) ...\n",
            "cp: '/usr/lib/chromium-browser/chromedriver' and '/usr/bin/chromedriver' are the same file\n",
            "Requirement already satisfied: pytest in /usr/local/lib/python3.6/dist-packages (3.6.4)\n",
            "Requirement already satisfied: attrs>=17.4.0 in /usr/local/lib/python3.6/dist-packages (from pytest) (19.3.0)\n",
            "Requirement already satisfied: setuptools in /usr/local/lib/python3.6/dist-packages (from pytest) (46.0.0)\n",
            "Requirement already satisfied: py>=1.5.0 in /usr/local/lib/python3.6/dist-packages (from pytest) (1.8.1)\n",
            "Requirement already satisfied: atomicwrites>=1.0 in /usr/local/lib/python3.6/dist-packages (from pytest) (1.3.0)\n",
            "Requirement already satisfied: more-itertools>=4.0.0 in /usr/local/lib/python3.6/dist-packages (from pytest) (8.2.0)\n",
            "Requirement already satisfied: pluggy<0.8,>=0.5 in /usr/local/lib/python3.6/dist-packages (from pytest) (0.7.1)\n",
            "Requirement already satisfied: six>=1.10.0 in /usr/local/lib/python3.6/dist-packages (from pytest) (1.12.0)\n"
          ],
          "name": "stdout"
        }
      ]
    },
    {
      "cell_type": "code",
      "metadata": {
        "id": "vWbAqr-nVa1v",
        "colab_type": "code",
        "outputId": "27d8e103-791c-4825-802b-11e043eb75c7",
        "cellView": "both",
        "colab": {
          "base_uri": "https://localhost:8080/",
          "height": 795
        }
      },
      "source": [
        "#@title 2) Upload Image, Sometimes This Website Takes a Few Clicks to Open, If It doesn't Open, Try Again. Scroll Below Image to See Link\n",
        "%%html\n",
        "<iframe src=\"https://ehalperstromberg.shinyapps.io/uploadImages/\" width=\"1000\" height=\"750\"></iframe>\n"
      ],
      "execution_count": 2,
      "outputs": [
        {
          "output_type": "display_data",
          "data": {
            "text/html": [
              "<iframe src=\"https://ehalperstromberg.shinyapps.io/uploadImages/\" width=\"1000\" height=\"750\"></iframe>"
            ],
            "text/plain": [
              "<IPython.core.display.HTML object>"
            ]
          },
          "metadata": {
            "tags": []
          }
        }
      ]
    },
    {
      "cell_type": "code",
      "metadata": {
        "id": "IE3h4Ywd6Ypi",
        "colab_type": "code",
        "cellView": "both",
        "outputId": "2eb6028c-ff7a-4b74-fd80-c6334daf38f0",
        "colab": {
          "base_uri": "https://localhost:8080/",
          "height": 281
        }
      },
      "source": [
        "#@title 3) Paste Link Address from Above and Insert Search Terms\n",
        "\n",
        "Copied_Link_url = \"https://ehalperstromberg.shinyapps.io/uploadImages/_w_f68f3a6e/session/afc60b0e5bc59cb3177607150bf25404/download/downloadImage?w=f68f3a6e\" #@param {type:\"string\"}\n",
        "search_Keywords = \"\" #@param {type:\"string\"}\n",
        "\n",
        "#@markdown ### 4) Run The Code Cell To Get the Visually Similar Image Links\n",
        "\n",
        "from IPython.display import HTML\n",
        "driver.get(\"https://www.google.com/\") \n",
        "\n",
        "driver.set_window_size(1068, 775)    # Test name: test\n",
        "\n",
        "element = driver.find_element(By.LINK_TEXT, \"Images\")\n",
        "\n",
        "actions = ActionChains(driver)\n",
        "\n",
        "actions.move_to_element(element).perform()\n",
        "\n",
        "driver.find_element(By.LINK_TEXT, \"Images\").click()\n",
        "\n",
        "driver.find_element(By.CSS_SELECTOR, \".BwoPOe\").click()\n",
        "driver.find_element(By.ID, \"Ycyxxc\").send_keys(\"\")\n",
        "driver.find_element(By.ID, \"Ycyxxc\").send_keys(Copied_Link_url)\n",
        "\n",
        "driver.find_element(By.ID, \"Ycyxxc\").send_keys(Keys.ENTER)\n",
        "driver.find_element(By.NAME, \"q\").click()\n",
        "\n",
        "driver.find_element(By.NAME, \"q\").clear()\n",
        "driver.find_element(By.NAME, \"q\").send_keys(search_Keywords+\" site:apps.pathology.jhu.edu/sp/\")\n",
        "driver.find_element(By.NAME, \"q\").send_keys(Keys.ENTER)\n",
        "driver.find_element(By.NAME, \"q\").click()\n",
        "\n",
        "#driver.find_element(By.CSS_SELECTOR, \".gbqfb\").click()\n",
        "driver.find_element(By.LINK_TEXT, \"Visually similar images\").click()\n",
        "url1 = driver.current_url\n",
        "\n",
        "\n",
        "driver.get(\"https://www.google.com/\") \n",
        "driver.set_window_size(1068, 775)    # Test name: test\n",
        "\n",
        "element = driver.find_element(By.LINK_TEXT, \"Images\")\n",
        "\n",
        "actions = ActionChains(driver)\n",
        "\n",
        "actions.move_to_element(element).perform()\n",
        "\n",
        "driver.find_element(By.LINK_TEXT, \"Images\").click()\n",
        "\n",
        "driver.find_element(By.CSS_SELECTOR, \".BwoPOe\").click()\n",
        "\n",
        "driver.find_element(By.ID, \"Ycyxxc\").send_keys(Copied_Link_url)\n",
        "\n",
        "driver.find_element(By.ID, \"Ycyxxc\").send_keys(Keys.ENTER)\n",
        "driver.find_element(By.NAME, \"q\").click()\n",
        "driver.find_element(By.NAME, \"q\").clear()\n",
        "driver.find_element(By.NAME, \"q\").send_keys(search_Keywords+\" site:https://www.pathologyoutlines.com/\")\n",
        "driver.find_element(By.NAME, \"q\").send_keys(Keys.ENTER)\n",
        "driver.find_element(By.NAME, \"q\").click()\n",
        "\n",
        "#driver.find_element(By.CSS_SELECTOR, \".gbqfb\").click()\n",
        "driver.find_element(By.LINK_TEXT, \"Visually similar images\").click()\n",
        "url2 = driver.current_url\n",
        "\n",
        "\n",
        "driver.get(\"https://www.google.com/\") \n",
        "driver.set_window_size(1068, 775)    # Test name: test\n",
        "\n",
        "element = driver.find_element(By.LINK_TEXT, \"Images\")\n",
        "\n",
        "actions = ActionChains(driver)\n",
        "\n",
        "actions.move_to_element(element).perform()\n",
        "\n",
        "driver.find_element(By.LINK_TEXT, \"Images\").click()\n",
        "\n",
        "driver.find_element(By.CSS_SELECTOR, \".BwoPOe\").click()\n",
        "\n",
        "driver.find_element(By.ID, \"Ycyxxc\").send_keys(Copied_Link_url)\n",
        "\n",
        "driver.find_element(By.ID, \"Ycyxxc\").send_keys(Keys.ENTER)\n",
        "driver.find_element(By.NAME, \"q\").click()\n",
        "driver.find_element(By.NAME, \"q\").clear()\n",
        "driver.find_element(By.NAME, \"q\").send_keys(search_Keywords+\" site:https://www.webpathology.com/\")\n",
        "driver.find_element(By.NAME, \"q\").send_keys(Keys.ENTER)\n",
        "driver.find_element(By.NAME, \"q\").click()\n",
        "\n",
        "#driver.find_element(By.CSS_SELECTOR, \".gbqfb\").click()\n",
        "driver.find_element(By.LINK_TEXT, \"Visually similar images\").click()\n",
        "url3 = driver.current_url\n",
        "from IPython.display import HTML\n",
        "link1 = '<i><b><h2><font size=18> <a href=\"{0}\" target=\"_blank\">{1}</a></font></b></i>'.format(url1, \"Similar Images Sp Unknowns\")\n",
        "\n",
        "link2 = '<i><b><h2><font size=18> <a href=\"{0}\" target=\"_blank\">{1}</a></font></b></i>'.format(url2, \"Similar Images Pathology Outlines\")\n",
        "\n",
        "link3 = '<i><b><h2><font size=18> <a href=\"{0}\" target=\"_blank\">{1}</a></font></b></i>'.format(url3, \"Similar Images Web Of Pathology\")\n",
        "\n",
        "HTML(link1+link2+link3)\n",
        "\n"
      ],
      "execution_count": 4,
      "outputs": [
        {
          "output_type": "execute_result",
          "data": {
            "text/html": [
              "<i><b><h2><font size=18> <a href=\"https://www.google.com/search?hl=en&tbs=simg:CAEShwEJEBzCeZhqM0UafAsQsIynCBpgCl4IAxImZ78JwAe-CWaCDNQejAzVC8gV3ymhN-Ah9TfpN-s36jfgKIUilCkaMBIVlG_10R7WC7lamLybIuEKA7ZIYhlqn5fUA0m7be2hVVQ53-ACRjRnGlHr3EtI4liAEDAsQjq7-CBoKCggIARIES0PjSww&q=site:apps.pathology.jhu.edu/sp/&tbm=isch&sa=X&ved=2ahUKEwi32OaUz7XoAhUqJzQIHehdBz8Qsw56BAgBEAE&biw=1068&bih=775\" target=\"_blank\">Similar Images Sp Unknowns</a></font></b></i><i><b><h2><font size=18> <a href=\"https://www.google.com/search?hl=en&tbs=simg:CAEShwEJEBzCeZhqM0UafAsQsIynCBpgCl4IAxImZ78JwAe-CWaCDNQejAzVC8gV3ymhN-Ah9TfpN-s36jfgKIUilCkaMBIVlG_10R7WC7lamLybIuEKA7ZIYhlqn5fUA0m7be2hVVQ53-ACRjRnGlHr3EtI4liAEDAsQjq7-CBoKCggIARIES0PjSww&q=site:www.pathologyoutlines.com/&tbm=isch&sa=X&ved=2ahUKEwjakuuWz7XoAhU8IDQIHSaHAS4Qsw56BAgBEAE&biw=1068&bih=775\" target=\"_blank\">Similar Images Pathology Outlines</a></font></b></i><i><b><h2><font size=18> <a href=\"https://www.google.com/search?hl=en&tbs=simg:CAEShwEJEBzCeZhqM0UafAsQsIynCBpgCl4IAxImZ78JwAe-CWaCDNQejAzVC8gV3ymhN-Ah9TfpN-s36jfgKIUilCkaMBIVlG_10R7WC7lamLybIuEKA7ZIYhlqn5fUA0m7be2hVVQ53-ACRjRnGlHr3EtI4liAEDAsQjq7-CBoKCggIARIES0PjSww&q=site:www.webpathology.com/&tbm=isch&sa=X&ved=2ahUKEwj9se-Yz7XoAhXGIDQIHaI9DPMQsw56BAgBEAE&biw=1068&bih=775\" target=\"_blank\">Similar Images Web Of Pathology</a></font></b></i>"
            ],
            "text/plain": [
              "<IPython.core.display.HTML object>"
            ]
          },
          "metadata": {
            "tags": []
          },
          "execution_count": 4
        }
      ]
    }
  ]
}